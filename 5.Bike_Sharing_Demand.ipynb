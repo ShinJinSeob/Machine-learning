{
 "cells": [
  {
   "cell_type": "markdown",
   "id": "3e463a13",
   "metadata": {},
   "source": [
    "## 1. 파일 불러오기"
   ]
  },
  {
   "cell_type": "code",
   "execution_count": 1,
   "id": "72d26551",
   "metadata": {},
   "outputs": [
    {
     "name": "stdout",
     "output_type": "stream",
     "text": [
      "(10886, 12)\n"
     ]
    },
    {
     "data": {
      "text/html": [
       "<div>\n",
       "<style scoped>\n",
       "    .dataframe tbody tr th:only-of-type {\n",
       "        vertical-align: middle;\n",
       "    }\n",
       "\n",
       "    .dataframe tbody tr th {\n",
       "        vertical-align: top;\n",
       "    }\n",
       "\n",
       "    .dataframe thead th {\n",
       "        text-align: right;\n",
       "    }\n",
       "</style>\n",
       "<table border=\"1\" class=\"dataframe\">\n",
       "  <thead>\n",
       "    <tr style=\"text-align: right;\">\n",
       "      <th></th>\n",
       "      <th>datetime</th>\n",
       "      <th>season</th>\n",
       "      <th>holiday</th>\n",
       "      <th>workingday</th>\n",
       "      <th>weather</th>\n",
       "      <th>temp</th>\n",
       "      <th>atemp</th>\n",
       "      <th>humidity</th>\n",
       "      <th>windspeed</th>\n",
       "      <th>casual</th>\n",
       "      <th>registered</th>\n",
       "      <th>count</th>\n",
       "    </tr>\n",
       "  </thead>\n",
       "  <tbody>\n",
       "    <tr>\n",
       "      <th>0</th>\n",
       "      <td>2011-01-01 00:00:00</td>\n",
       "      <td>1</td>\n",
       "      <td>0</td>\n",
       "      <td>0</td>\n",
       "      <td>1</td>\n",
       "      <td>9.84</td>\n",
       "      <td>14.395</td>\n",
       "      <td>81</td>\n",
       "      <td>0.0</td>\n",
       "      <td>3</td>\n",
       "      <td>13</td>\n",
       "      <td>16</td>\n",
       "    </tr>\n",
       "    <tr>\n",
       "      <th>1</th>\n",
       "      <td>2011-01-01 01:00:00</td>\n",
       "      <td>1</td>\n",
       "      <td>0</td>\n",
       "      <td>0</td>\n",
       "      <td>1</td>\n",
       "      <td>9.02</td>\n",
       "      <td>13.635</td>\n",
       "      <td>80</td>\n",
       "      <td>0.0</td>\n",
       "      <td>8</td>\n",
       "      <td>32</td>\n",
       "      <td>40</td>\n",
       "    </tr>\n",
       "    <tr>\n",
       "      <th>2</th>\n",
       "      <td>2011-01-01 02:00:00</td>\n",
       "      <td>1</td>\n",
       "      <td>0</td>\n",
       "      <td>0</td>\n",
       "      <td>1</td>\n",
       "      <td>9.02</td>\n",
       "      <td>13.635</td>\n",
       "      <td>80</td>\n",
       "      <td>0.0</td>\n",
       "      <td>5</td>\n",
       "      <td>27</td>\n",
       "      <td>32</td>\n",
       "    </tr>\n",
       "  </tbody>\n",
       "</table>\n",
       "</div>"
      ],
      "text/plain": [
       "              datetime  season  holiday  workingday  weather  temp   atemp  \\\n",
       "0  2011-01-01 00:00:00       1        0           0        1  9.84  14.395   \n",
       "1  2011-01-01 01:00:00       1        0           0        1  9.02  13.635   \n",
       "2  2011-01-01 02:00:00       1        0           0        1  9.02  13.635   \n",
       "\n",
       "   humidity  windspeed  casual  registered  count  \n",
       "0        81        0.0       3          13     16  \n",
       "1        80        0.0       8          32     40  \n",
       "2        80        0.0       5          27     32  "
      ]
     },
     "execution_count": 1,
     "metadata": {},
     "output_type": "execute_result"
    }
   ],
   "source": [
    "import numpy as np\n",
    "import pandas as pd\n",
    "import seaborn as sns\n",
    "import matplotlib.pyplot as plt\n",
    "%matplotlib inline\n",
    "\n",
    "import warnings\n",
    "warnings.filterwarnings(\"ignore\", category=RuntimeWarning)\n",
    "\n",
    "bike_df = pd.read_csv('./bike_train.csv')\n",
    "print(bike_df.shape)\n",
    "bike_df.head(3)"
   ]
  },
  {
   "cell_type": "markdown",
   "id": "d1a9aaf9",
   "metadata": {},
   "source": [
    "datetime: hourly date + timestamp  \n",
    "season: 1 = 봄, 2 = 여름, 3 = 가을, 4 = 겨울  \n",
    "holiday: 1 = 토, 일요일의 주말을 제외한 국경을 등의 휴일, 0 = 휴일이 아닌 날  \n",
    "workingday: 1 = 토, 일요일의 주말 및 휴일이 아닌 주중, 0 = 주말 및 휴일\n",
    "weather: 1 = 맑음, 약간 구름 낀 흐림, 2 = 안개, 안개 + 흐림, 3 = 가벼운 눈, 가벼운 비 + 천둥, 4 = 심한 눈/비, 천둥/번개  \n",
    "temp: 온도(섭씨)  \n",
    "atemp: 체감온도(섭씨)  \n",
    "humidity: 상대습도  \n",
    "windspeed: 풍속  \n",
    "casual: 사전에 등록되지 않는 사용자가 대여한 횟수  \n",
    "registered:  사전에 등록된 사용자가 대여한 횟수  \n",
    "count: 대여 횟수  "
   ]
  },
  {
   "cell_type": "markdown",
   "id": "cb625fe5",
   "metadata": {},
   "source": [
    "## 2. 데이터 정보"
   ]
  },
  {
   "cell_type": "code",
   "execution_count": 2,
   "id": "468ede56",
   "metadata": {
    "scrolled": true
   },
   "outputs": [
    {
     "name": "stdout",
     "output_type": "stream",
     "text": [
      "<class 'pandas.core.frame.DataFrame'>\n",
      "RangeIndex: 10886 entries, 0 to 10885\n",
      "Data columns (total 12 columns):\n",
      " #   Column      Non-Null Count  Dtype  \n",
      "---  ------      --------------  -----  \n",
      " 0   datetime    10886 non-null  object \n",
      " 1   season      10886 non-null  int64  \n",
      " 2   holiday     10886 non-null  int64  \n",
      " 3   workingday  10886 non-null  int64  \n",
      " 4   weather     10886 non-null  int64  \n",
      " 5   temp        10886 non-null  float64\n",
      " 6   atemp       10886 non-null  float64\n",
      " 7   humidity    10886 non-null  int64  \n",
      " 8   windspeed   10886 non-null  float64\n",
      " 9   casual      10886 non-null  int64  \n",
      " 10  registered  10886 non-null  int64  \n",
      " 11  count       10886 non-null  int64  \n",
      "dtypes: float64(3), int64(8), object(1)\n",
      "memory usage: 1020.7+ KB\n"
     ]
    }
   ],
   "source": [
    "bike_df.info()"
   ]
  },
  {
   "cell_type": "markdown",
   "id": "ba0e9f66",
   "metadata": {},
   "source": [
    "datetime 피처의 경우 숫자 형식으로의 가공이 필요  \n",
    "년, 월, 일, 시간 4개의 속성으로 분리"
   ]
  },
  {
   "cell_type": "markdown",
   "id": "8302d79a",
   "metadata": {},
   "source": [
    "## 3. datetime 피처 datetime 타입으로 변환"
   ]
  },
  {
   "cell_type": "code",
   "execution_count": 3,
   "id": "114d1426",
   "metadata": {},
   "outputs": [
    {
     "data": {
      "text/html": [
       "<div>\n",
       "<style scoped>\n",
       "    .dataframe tbody tr th:only-of-type {\n",
       "        vertical-align: middle;\n",
       "    }\n",
       "\n",
       "    .dataframe tbody tr th {\n",
       "        vertical-align: top;\n",
       "    }\n",
       "\n",
       "    .dataframe thead th {\n",
       "        text-align: right;\n",
       "    }\n",
       "</style>\n",
       "<table border=\"1\" class=\"dataframe\">\n",
       "  <thead>\n",
       "    <tr style=\"text-align: right;\">\n",
       "      <th></th>\n",
       "      <th>datetime</th>\n",
       "      <th>season</th>\n",
       "      <th>holiday</th>\n",
       "      <th>workingday</th>\n",
       "      <th>weather</th>\n",
       "      <th>temp</th>\n",
       "      <th>atemp</th>\n",
       "      <th>humidity</th>\n",
       "      <th>windspeed</th>\n",
       "      <th>casual</th>\n",
       "      <th>registered</th>\n",
       "      <th>count</th>\n",
       "      <th>year</th>\n",
       "      <th>month</th>\n",
       "      <th>day</th>\n",
       "      <th>hour</th>\n",
       "    </tr>\n",
       "  </thead>\n",
       "  <tbody>\n",
       "    <tr>\n",
       "      <th>0</th>\n",
       "      <td>2011-01-01 00:00:00</td>\n",
       "      <td>1</td>\n",
       "      <td>0</td>\n",
       "      <td>0</td>\n",
       "      <td>1</td>\n",
       "      <td>9.84</td>\n",
       "      <td>14.395</td>\n",
       "      <td>81</td>\n",
       "      <td>0.0</td>\n",
       "      <td>3</td>\n",
       "      <td>13</td>\n",
       "      <td>16</td>\n",
       "      <td>2011</td>\n",
       "      <td>1</td>\n",
       "      <td>1</td>\n",
       "      <td>0</td>\n",
       "    </tr>\n",
       "    <tr>\n",
       "      <th>1</th>\n",
       "      <td>2011-01-01 01:00:00</td>\n",
       "      <td>1</td>\n",
       "      <td>0</td>\n",
       "      <td>0</td>\n",
       "      <td>1</td>\n",
       "      <td>9.02</td>\n",
       "      <td>13.635</td>\n",
       "      <td>80</td>\n",
       "      <td>0.0</td>\n",
       "      <td>8</td>\n",
       "      <td>32</td>\n",
       "      <td>40</td>\n",
       "      <td>2011</td>\n",
       "      <td>1</td>\n",
       "      <td>1</td>\n",
       "      <td>1</td>\n",
       "    </tr>\n",
       "    <tr>\n",
       "      <th>2</th>\n",
       "      <td>2011-01-01 02:00:00</td>\n",
       "      <td>1</td>\n",
       "      <td>0</td>\n",
       "      <td>0</td>\n",
       "      <td>1</td>\n",
       "      <td>9.02</td>\n",
       "      <td>13.635</td>\n",
       "      <td>80</td>\n",
       "      <td>0.0</td>\n",
       "      <td>5</td>\n",
       "      <td>27</td>\n",
       "      <td>32</td>\n",
       "      <td>2011</td>\n",
       "      <td>1</td>\n",
       "      <td>1</td>\n",
       "      <td>2</td>\n",
       "    </tr>\n",
       "  </tbody>\n",
       "</table>\n",
       "</div>"
      ],
      "text/plain": [
       "             datetime  season  holiday  workingday  weather  temp   atemp  \\\n",
       "0 2011-01-01 00:00:00       1        0           0        1  9.84  14.395   \n",
       "1 2011-01-01 01:00:00       1        0           0        1  9.02  13.635   \n",
       "2 2011-01-01 02:00:00       1        0           0        1  9.02  13.635   \n",
       "\n",
       "   humidity  windspeed  casual  registered  count  year  month  day  hour  \n",
       "0        81        0.0       3          13     16  2011      1    1     0  \n",
       "1        80        0.0       8          32     40  2011      1    1     1  \n",
       "2        80        0.0       5          27     32  2011      1    1     2  "
      ]
     },
     "execution_count": 3,
     "metadata": {},
     "output_type": "execute_result"
    }
   ],
   "source": [
    "# 문자열을 datetime 타입으로 변경. \n",
    "bike_df['datetime'] = bike_df.datetime.apply(pd.to_datetime)\n",
    "\n",
    "# datetime 타입에서 년, 월, 일, 시간 추출\n",
    "bike_df['year'] = bike_df.datetime.apply(lambda x : x.year)\n",
    "bike_df['month'] = bike_df.datetime.apply(lambda x : x.month)\n",
    "bike_df['day'] = bike_df.datetime.apply(lambda x : x.day)\n",
    "bike_df['hour'] = bike_df.datetime.apply(lambda x: x.hour)\n",
    "bike_df.head(3)"
   ]
  },
  {
   "cell_type": "markdown",
   "id": "3391a486",
   "metadata": {},
   "source": [
    "## 4.피처 삭제"
   ]
  },
  {
   "cell_type": "code",
   "execution_count": 4,
   "id": "057035c2",
   "metadata": {},
   "outputs": [],
   "source": [
    "drop_columns = ['datetime','casual','registered']\n",
    "bike_df.drop(drop_columns, axis=1,inplace=True)"
   ]
  },
  {
   "cell_type": "markdown",
   "id": "59b3a05d",
   "metadata": {},
   "source": [
    "새로운 피처들 생성으로 기존 datetime 피처 불필요  \n",
    "casual + registered = count 이므로 따로 필요하지 않으며 오히려 상관도가 높아 예측 저해 가능"
   ]
  },
  {
   "cell_type": "markdown",
   "id": "cc0d12ea",
   "metadata": {},
   "source": [
    "## 5. 피처별 대여 횟수 분포 시각화"
   ]
  },
  {
   "cell_type": "code",
   "execution_count": 5,
   "id": "0dddc917",
   "metadata": {
    "scrolled": true
   },
   "outputs": [
    {
     "data": {
      "image/png": "[encoded data removed]",
      "text/plain": [
       "<Figure size 1600x800 with 8 Axes>"
      ]
     },
     "metadata": {},
     "output_type": "display_data"
    }
   ],
   "source": [
    "fig, axs = plt.subplots(figsize=(16, 8), ncols=4, nrows=2)\n",
    "cat_features = ['year', 'month','season','weather','day', 'hour', 'holiday','workingday']\n",
    "# cat_features에 있는 모든 칼럼별로 개별 칼럼값에 따른 count의 합을 barplot으로 시각화\n",
    "for i, feature in enumerate(cat_features):\n",
    "    row = int(i/4)\n",
    "    col = i%4\n",
    "    # 시본의 barplot을 이용해 칼럼값에 따른 count의 합을 표현\n",
    "    sns.barplot(x=feature, y='count', data=bike_df, ax=axs[row][col])"
   ]
  },
  {
   "cell_type": "markdown",
   "id": "77f5eb3a",
   "metadata": {},
   "source": [
    "2012년이 2011년보다 높고 이는 시간이 지날수록 대여 횟수가 지속적으로 증가한 결과라고 유추 가능  \n",
    "month의 경우 6,7,8,9 월이 높고 1,2,3 월이 낮으며, season의 경우 여름, 가을이 높고 봄, 겨울이 낮음  \n",
    "weather의 경우 맑거나 흐린 경우 높고, 눈이나 비가 오는 경우 낮음  \n",
    "hour의 경우 출퇴근 시간이 상대적으로 높음  \n",
    "day의 경우 각각의 차이가 크지 않음  \n",
    "holiday, workingday의 경우 주중일 때 약간 더 높음"
   ]
  },
  {
   "cell_type": "markdown",
   "id": "df06e4d7",
   "metadata": {},
   "source": [
    "## 6. 성능 평가 함수 생성"
   ]
  },
  {
   "cell_type": "code",
   "execution_count": 6,
   "id": "3632c450",
   "metadata": {},
   "outputs": [],
   "source": [
    "from sklearn.metrics import mean_squared_error, mean_absolute_error\n",
    "\n",
    "# log 값 변환 시 NaN등의 이슈로 log() 가 아닌 log1p() 를 이용하여 RMSLE 계산\n",
    "def rmsle(y, pred):\n",
    "    log_y = np.log1p(y)\n",
    "    log_pred = np.log1p(pred)\n",
    "    squared_error = (log_y - log_pred) ** 2\n",
    "    rmsle = np.sqrt(np.mean(squared_error))\n",
    "    return rmsle\n",
    "\n",
    "# 사이킷런의 mean_square_error() 를 이용하여 RMSE 계산\n",
    "def rmse(y,pred):\n",
    "    return np.sqrt(mean_squared_error(y,pred))\n",
    "\n",
    "# MSE, RMSE, RMSLE 를 모두 계산 \n",
    "def evaluate_regr(y,pred):\n",
    "    rmsle_val = rmsle(y,pred)\n",
    "    rmse_val = rmse(y,pred)\n",
    "    # MAE 는 scikit learn의 mean_absolute_error() 로 계산\n",
    "    mae_val = mean_absolute_error(y,pred)\n",
    "    print('RMSLE: {0:.3f}, RMSE: {1:.3F}, MAE: {2:.3F}'.format(rmsle_val, rmse_val, mae_val))"
   ]
  },
  {
   "cell_type": "markdown",
   "id": "1e243126",
   "metadata": {},
   "source": [
    "## 7. 선형 회귀 모델 학습"
   ]
  },
  {
   "cell_type": "code",
   "execution_count": 7,
   "id": "62591006",
   "metadata": {},
   "outputs": [
    {
     "name": "stdout",
     "output_type": "stream",
     "text": [
      "RMSLE: 1.165, RMSE: 140.900, MAE: 105.924\n"
     ]
    }
   ],
   "source": [
    "from sklearn.model_selection import train_test_split , GridSearchCV\n",
    "from sklearn.linear_model import LinearRegression , Ridge , Lasso\n",
    "\n",
    "y_target = bike_df['count']\n",
    "X_features = bike_df.drop(['count'],axis=1,inplace=False)\n",
    "\n",
    "X_train, X_test, y_train, y_test = train_test_split(X_features, y_target, test_size=0.3, random_state=0)\n",
    "\n",
    "lr_reg = LinearRegression()\n",
    "lr_reg.fit(X_train, y_train)\n",
    "pred = lr_reg.predict(X_test)\n",
    "\n",
    "evaluate_regr(y_test ,pred)"
   ]
  },
  {
   "cell_type": "markdown",
   "id": "264eae96",
   "metadata": {},
   "source": [
    "## 8. 실제값 예측값 차이"
   ]
  },
  {
   "cell_type": "code",
   "execution_count": 8,
   "id": "969e14fd",
   "metadata": {
    "scrolled": false
   },
   "outputs": [
    {
     "name": "stdout",
     "output_type": "stream",
     "text": [
      "      real_count  predicted_count   diff\n",
      "1618         890            322.0  568.0\n",
      "3151         798            241.0  557.0\n",
      "966          884            327.0  557.0\n",
      "412          745            194.0  551.0\n",
      "2817         856            310.0  546.0\n"
     ]
    }
   ],
   "source": [
    "def get_top_error_data(y_test, pred, n_tops = 5):\n",
    "    # DataFrame에 컬럼들로 실제 대여횟수(count)와 예측 값을 서로 비교 할 수 있도록 생성. \n",
    "    result_df = pd.DataFrame(y_test.values, columns=['real_count'])\n",
    "    result_df['predicted_count']= np.round(pred)\n",
    "    result_df['diff'] = np.abs(result_df['real_count'] - result_df['predicted_count'])\n",
    "    # 예측값과 실제값이 가장 큰 데이터 순으로 출력. \n",
    "    print(result_df.sort_values('diff', ascending=False)[:n_tops])\n",
    "    \n",
    "get_top_error_data(y_test,pred,n_tops=5)"
   ]
  },
  {
   "cell_type": "markdown",
   "id": "f1a80e71",
   "metadata": {},
   "source": [
    "상위 5위의 오류값들이 500 이상으로 예측 오류가 꽤 큼"
   ]
  },
  {
   "cell_type": "markdown",
   "id": "04c98e58",
   "metadata": {},
   "source": [
    "## 9. 타깃값 분포"
   ]
  },
  {
   "cell_type": "code",
   "execution_count": 9,
   "id": "fab94e53",
   "metadata": {
    "scrolled": true
   },
   "outputs": [
    {
     "data": {
      "text/plain": [
       "<AxesSubplot:>"
      ]
     },
     "execution_count": 9,
     "metadata": {},
     "output_type": "execute_result"
    },
    {
     "data": {
      "image/png": "[encoded data removed]",
      "text/plain": [
       "<Figure size 640x480 with 1 Axes>"
      ]
     },
     "metadata": {},
     "output_type": "display_data"
    }
   ],
   "source": [
    "y_target.hist()"
   ]
  },
  {
   "cell_type": "markdown",
   "id": "5affa9e0",
   "metadata": {},
   "source": [
    "타깃값의 분포가 왜곡된 형태인 경우 큰 예측 오류 발생 가능  \n",
    "로그를 적용해 타깃값을 정규 분포 형태로 변환  \n",
    "학습 후 예측값은 expm1() 함수를 적용해 복구 가능"
   ]
  },
  {
   "cell_type": "markdown",
   "id": "201fb7dc",
   "metadata": {},
   "source": [
    "## 10. 타깃값 정규분포 형태 변환"
   ]
  },
  {
   "cell_type": "code",
   "execution_count": 10,
   "id": "d7ae4e72",
   "metadata": {
    "scrolled": true
   },
   "outputs": [
    {
     "data": {
      "text/plain": [
       "<AxesSubplot:>"
      ]
     },
     "execution_count": 10,
     "metadata": {},
     "output_type": "execute_result"
    },
    {
     "data": {
      "image/png": "[encoded data removed]",
      "text/plain": [
       "<Figure size 640x480 with 1 Axes>"
      ]
     },
     "metadata": {},
     "output_type": "display_data"
    }
   ],
   "source": [
    "y_log_transform = np.log1p(y_target)\n",
    "y_log_transform.hist()"
   ]
  },
  {
   "cell_type": "markdown",
   "id": "47acc8fe",
   "metadata": {},
   "source": [
    "변환 전보다 왜곡 정도 향상"
   ]
  },
  {
   "cell_type": "markdown",
   "id": "db7e0ee3",
   "metadata": {},
   "source": [
    "## 11. 회귀 모델 재학습"
   ]
  },
  {
   "cell_type": "code",
   "execution_count": 11,
   "id": "5fd92ee0",
   "metadata": {},
   "outputs": [
    {
     "name": "stdout",
     "output_type": "stream",
     "text": [
      "RMSLE: 1.017, RMSE: 162.594, MAE: 109.286\n"
     ]
    }
   ],
   "source": [
    "# 타깃 칼럼인 count 값을 log1p로 로그 변환\n",
    "y_target_log = np.log1p(y_target)\n",
    "\n",
    "# 로그 변환된 y_target_log를 반영하여 학습/테스트 데이터 셋 분할\n",
    "X_train, X_test, y_train, y_test = train_test_split(X_features, y_target_log, test_size=0.3, random_state=0)\n",
    "lr_reg = LinearRegression()\n",
    "lr_reg.fit(X_train, y_train)\n",
    "pred = lr_reg.predict(X_test)\n",
    "\n",
    "# 테스트 데이터 셋의 Target 값은 Log 변환되었으므로 다시 expm1를 이용하여 원래 scale로 변환\n",
    "y_test_exp = np.expm1(y_test)\n",
    "\n",
    "# 예측 값 역시 Log 변환된 타깃 기반으로 학습되어 예측되었으므로 다시 exmpl으로 scale변환\n",
    "pred_exp = np.expm1(pred)\n",
    "\n",
    "evaluate_regr(y_test_exp ,pred_exp)"
   ]
  },
  {
   "cell_type": "markdown",
   "id": "a603ca3c",
   "metadata": {},
   "source": [
    "RMSLE 오류는 줄었지만 RMSE는 오히려 늘어남"
   ]
  },
  {
   "cell_type": "markdown",
   "id": "7cacf372",
   "metadata": {},
   "source": [
    "## 12. 회귀 계수값 시각화"
   ]
  },
  {
   "cell_type": "code",
   "execution_count": 12,
   "id": "93911295",
   "metadata": {
    "scrolled": false
   },
   "outputs": [
    {
     "data": {
      "text/plain": [
       "<AxesSubplot:>"
      ]
     },
     "execution_count": 12,
     "metadata": {},
     "output_type": "execute_result"
    },
    {
     "data": {
      "image/png": "[encoded data removed]",
      "text/plain": [
       "<Figure size 640x480 with 1 Axes>"
      ]
     },
     "metadata": {},
     "output_type": "display_data"
    }
   ],
   "source": [
    "coef = pd.Series(lr_reg.coef_, index=X_features.columns)\n",
    "coef_sort = coef.sort_values(ascending=False)\n",
    "sns.barplot(x=coef_sort.values, y=coef_sort.index)"
   ]
  },
  {
   "cell_type": "markdown",
   "id": "3b173817",
   "metadata": {},
   "source": [
    "year, hour, month, season, holiday, workingday 피처들의 회귀 계수 영향도가 높음  "
   ]
  },
  {
   "cell_type": "markdown",
   "id": "908c5289",
   "metadata": {},
   "source": [
    "## 13. 원-핫 인코딩"
   ]
  },
  {
   "cell_type": "code",
   "execution_count": 13,
   "id": "4b2193b6",
   "metadata": {},
   "outputs": [],
   "source": [
    "# 'year', month', 'day', hour'등의 피처들을 One Hot Encoding\n",
    "X_features_ohe = pd.get_dummies(X_features, columns=['year', 'month','day', 'hour', 'holiday',\n",
    "                                              'workingday','season','weather'])"
   ]
  },
  {
   "cell_type": "markdown",
   "id": "726f67ae",
   "metadata": {},
   "source": [
    "year, month 등의 피처는 개별 값의 크기가 의미 있지 않은 카테고리형 피처  \n",
    "학습에 숫자형 값의 크기가 영향을 주지 않도록 원-핫 인코딩 적용"
   ]
  },
  {
   "cell_type": "markdown",
   "id": "ba5ea143",
   "metadata": {},
   "source": [
    "## 14. 회귀 모델 재학습"
   ]
  },
  {
   "cell_type": "code",
   "execution_count": 14,
   "id": "bd960eb4",
   "metadata": {},
   "outputs": [
    {
     "name": "stdout",
     "output_type": "stream",
     "text": [
      "### LinearRegression ###\n",
      "RMSLE: 0.590, RMSE: 97.690, MAE: 63.383\n",
      "### Ridge ###\n",
      "RMSLE: 0.590, RMSE: 98.529, MAE: 63.893\n",
      "### Lasso ###\n",
      "RMSLE: 0.635, RMSE: 113.219, MAE: 72.803\n"
     ]
    }
   ],
   "source": [
    "# 원-핫 인코딩이 적용된 feature 데이터 세트 기반으로 학습/예측 데이터 분할. \n",
    "X_train, X_test, y_train, y_test = train_test_split(X_features_ohe, y_target_log,\n",
    "                                                    test_size=0.3, random_state=0)\n",
    "\n",
    "# 모델과 학습/테스트 데이터 셋을 입력하면 성능 평가 수치를 반환\n",
    "def get_model_predict(model, X_train, X_test, y_train, y_test, is_expm1=False):\n",
    "    model.fit(X_train, y_train)\n",
    "    pred = model.predict(X_test)\n",
    "    if is_expm1 :\n",
    "        y_test = np.expm1(y_test)\n",
    "        pred = np.expm1(pred)\n",
    "    print('###',model.__class__.__name__,'###')\n",
    "    evaluate_regr(y_test, pred)\n",
    "# end of function get_model_predict    \n",
    "\n",
    "# model 별로 평가 수행\n",
    "lr_reg = LinearRegression()\n",
    "ridge_reg = Ridge(alpha=10)\n",
    "lasso_reg = Lasso(alpha=0.01)\n",
    "\n",
    "for model in [lr_reg, ridge_reg, lasso_reg]:\n",
    "    get_model_predict(model,X_train, X_test, y_train, y_test,is_expm1=True)"
   ]
  },
  {
   "cell_type": "markdown",
   "id": "c0cef8d8",
   "metadata": {},
   "source": [
    "원-핫 인코딩 적용 후 예측 성능 크게 향상"
   ]
  },
  {
   "cell_type": "markdown",
   "id": "df157a11",
   "metadata": {},
   "source": [
    "## 15. 회귀 계수값 시각화"
   ]
  },
  {
   "cell_type": "code",
   "execution_count": 15,
   "id": "5b3debbe",
   "metadata": {
    "scrolled": false
   },
   "outputs": [
    {
     "data": {
      "text/plain": [
       "<AxesSubplot:>"
      ]
     },
     "execution_count": 15,
     "metadata": {},
     "output_type": "execute_result"
    },
    {
     "data": {
      "image/png": "[encoded data removed]",
      "text/plain": [
       "<Figure size 640x480 with 1 Axes>"
      ]
     },
     "metadata": {},
     "output_type": "display_data"
    }
   ],
   "source": [
    "coef = pd.Series(lr_reg.coef_ , index=X_features_ohe.columns)\n",
    "coef_sort = coef.sort_values(ascending=False)[:20]\n",
    "sns.barplot(x=coef_sort.values , y=coef_sort.index)"
   ]
  },
  {
   "cell_type": "markdown",
   "id": "b082d53e",
   "metadata": {},
   "source": [
    "## 16. 회귀 트리 모델 학습"
   ]
  },
  {
   "cell_type": "code",
   "execution_count": 16,
   "id": "98f8f33e",
   "metadata": {
    "scrolled": true
   },
   "outputs": [
    {
     "name": "stdout",
     "output_type": "stream",
     "text": [
      "### RandomForestRegressor ###\n",
      "RMSLE: 0.355, RMSE: 50.341, MAE: 31.194\n",
      "### GradientBoostingRegressor ###\n",
      "RMSLE: 0.330, RMSE: 53.332, MAE: 32.735\n",
      "### XGBRegressor ###\n",
      "RMSLE: 0.342, RMSE: 51.732, MAE: 31.251\n",
      "### LGBMRegressor ###\n",
      "RMSLE: 0.319, RMSE: 47.215, MAE: 29.029\n"
     ]
    }
   ],
   "source": [
    "from sklearn.ensemble import RandomForestRegressor, GradientBoostingRegressor\n",
    "from xgboost import XGBRegressor\n",
    "from lightgbm import LGBMRegressor\n",
    "\n",
    "# 랜덤 포레스트, GBM, XGBoost, LightGBM model 별로 평가 수행\n",
    "rf_reg = RandomForestRegressor(n_estimators=500)\n",
    "gbm_reg = GradientBoostingRegressor(n_estimators=500)\n",
    "xgb_reg = XGBRegressor(n_estimators=500)\n",
    "lgbm_reg = LGBMRegressor(n_estimators=500)\n",
    "\n",
    "for model in [rf_reg, gbm_reg, xgb_reg, lgbm_reg]:\n",
    "    # XGBoost의 경우 DataFrame이 입력 될 경우 버전에 따라 오류 발생 가능. ndarray로 변환.\n",
    "    get_model_predict(model,X_train.values, X_test.values, y_train.values, y_test.values,is_expm1=True)"
   ]
  },
  {
   "cell_type": "markdown",
   "id": "019cde5e",
   "metadata": {},
   "source": [
    "트리 모델에서 선형 모델보다 예측 성능 개선"
   ]
  }
 ],
 "metadata": {
  "kernelspec": {
   "display_name": "Python 3 (ipykernel)",
   "language": "python",
   "name": "python3"
  },
  "language_info": {
   "codemirror_mode": {
    "name": "ipython",
    "version": 3
   },
   "file_extension": ".py",
   "mimetype": "text/x-python",
   "name": "python",
   "nbconvert_exporter": "python",
   "pygments_lexer": "ipython3",
   "version": "3.9.13"
  }
 },
 "nbformat": 4,
 "nbformat_minor": 5
}
